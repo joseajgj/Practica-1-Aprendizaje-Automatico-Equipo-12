{
 "cells": [
  {
   "cell_type": "code",
   "execution_count": null,
   "metadata": {},
   "outputs": [],
   "source": [
    "!pip3 install pandas\n",
    "!pip3 install numpy\n",
    "!pip3 install scikit-learn"
   ]
  },
  {
   "cell_type": "code",
   "execution_count": null,
   "metadata": {},
   "outputs": [],
   "source": [
    "import pandas as pd\n",
    "import numpy as np\n",
    "from sklearn.model_selection import train_test_split\n",
    "from sklearn.preprocessing import MinMaxScaler"
   ]
  },
  {
   "cell_type": "code",
   "execution_count": null,
   "metadata": {},
   "outputs": [],
   "source": [
    "wind_ava = pd.read_csv('wind_ava.csv.gz', compression=\"gzip\")\n",
    "\n",
    "# Elimina todas las variables meteorológicas que no correspondan a la localización de Sotavento (la localización 13)\n",
    "wind_ava = wind_ava.filter(regex='^(datetime|energy|.*\\.13)$')\n",
    "\n",
    "# Elimina las variables 'lai_hv.13' y 'v10n.13'\n",
    "if 'lai_hv.13' in wind_ava.columns and 'v10n.13' in wind_ava.columns:\n",
    "    wind_ava = wind_ava.drop(['lai_hv.13', 'v10n.13'], axis=1)\n",
    "\n",
    "# Vuelve a definir las variables numéricas\n",
    "numerical_vars = wind_ava.select_dtypes(include=['int64', 'float64']).columns\n",
    "\n",
    "# Dividir los datos en conjuntos de entrenamiento y prueba (evaluación externa)\n",
    "X_train, X_test, y_train, y_test = train_test_split(wind_ava[numerical_vars], wind_ava['energy'], test_size=1/3, random_state=100472166, shuffle=False)\n",
    "\n",
    "# Transforma los datos de entrenamiento y de competición con el método de escalado\n",
    "X_train_scaled = MinMaxScaler.transform(X_train[numerical_vars])"
   ]
  },
  {
   "cell_type": "markdown",
   "metadata": {},
   "source": [
    "# Apartado 6"
   ]
  },
  {
   "cell_type": "code",
   "execution_count": null,
   "metadata": {},
   "outputs": [],
   "source": [
    "import pickle\n",
    "from sklearn.metrics import mean_squared_error, classification_report\n",
    "from sklearn.ensemble import RandomForestClassifier\n",
    "\n",
    "# Carga el modelo final\n",
    "with open('modelo_final.pkl', 'rb') as file:\n",
    "    best_model = pickle.load(file)\n",
    "\n",
    "# Hace predicciones sobre los datos de entrenamiento\n",
    "predictions = best_model.predict(X_train_scaled)\n",
    "\n",
    "# Calcula el error para valores altos y bajos de energía\n",
    "third_quantile = np.quantile(y_train, 0.75)\n",
    "low_values_error = mean_squared_error(y_train[y_train < third_quantile], predictions[y_train < third_quantile])\n",
    "high_values_error = mean_squared_error(y_train[y_train >= third_quantile], predictions[y_train >= third_quantile])\n",
    "\n",
    "print(f'Error para valores bajos de energía: {low_values_error}')\n",
    "print(f'Error para valores altos de energía: {high_values_error}')\n",
    "\n",
    "# Convierte el problema de regresión en un problema de clasificación\n",
    "y_train_class = np.where(y_train < third_quantile, 'baja', 'alta')\n",
    "\n",
    "# Entrena un modelo de clasificación\n",
    "clf = RandomForestClassifier()\n",
    "clf.fit(X_train_scaled, y_train_class)\n",
    "\n",
    "# Evalua el modelo de clasificación\n",
    "predictions_class = clf.predict(X_train_scaled)\n",
    "print(classification_report(y_train_class, predictions_class))"
   ]
  }
 ],
 "metadata": {
  "kernelspec": {
   "display_name": "Python 3",
   "language": "python",
   "name": "python3"
  },
  "language_info": {
   "name": "python",
   "version": "3.8.7"
  }
 },
 "nbformat": 4,
 "nbformat_minor": 2
}
