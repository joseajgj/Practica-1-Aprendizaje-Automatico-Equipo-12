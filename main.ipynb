{
 "cells": [
  {
   "cell_type": "code",
   "execution_count": null,
   "metadata": {},
   "outputs": [],
   "source": [
    "!pip3 install pandas\n",
    "!pip3 install numpy"
   ]
  },
  {
   "cell_type": "markdown",
   "metadata": {},
   "source": [
    "Importaciones"
   ]
  },
  {
   "cell_type": "code",
   "execution_count": null,
   "metadata": {},
   "outputs": [],
   "source": [
    "import pandas as pd\n",
    "import numpy as np"
   ]
  },
  {
   "cell_type": "markdown",
   "metadata": {},
   "source": [
    "Carga de los datos y filtrado"
   ]
  },
  {
   "cell_type": "code",
   "execution_count": null,
   "metadata": {},
   "outputs": [],
   "source": [
    "wind_ava = pd.read_csv('wind_ava.csv.gz', compression=\"gzip\")\n",
    "wind_ava = wind_ava.filter(regex='^(datetime|energy|.*\\.13)$')"
   ]
  },
  {
   "cell_type": "markdown",
   "metadata": {},
   "source": [
    "Análisis de los datos"
   ]
  },
  {
   "cell_type": "code",
   "execution_count": null,
   "metadata": {},
   "outputs": [],
   "source": [
    "# Número de instancias y características\n",
    "print(f'Número de instancias: {wind_ava.shape[0]}')\n",
    "print(f'Número de características: {wind_ava.shape[1]}')\n",
    "\n",
    "# Variables categóricas y numéricas\n",
    "categorical_vars = wind_ava.select_dtypes(include=['object']).columns\n",
    "numerical_vars = wind_ava.select_dtypes(include=['int64', 'float64']).columns\n",
    "print(f'Variables categóricas: {categorical_vars}')\n",
    "print(f'Variables numéricas: {numerical_vars}')\n",
    "\n",
    "# Valores faltantes\n",
    "zero_count = (wind_ava == 0).sum().sum()\n",
    "print(f\"Número de valores que son 0: {zero_count}\")\n",
    "\n",
    "# Columnas constantes\n",
    "constant_columns = [col for col in wind_ava.columns if wind_ava[col].nunique() <= 1]\n",
    "print(f'Columnas constantes: {constant_columns}')\n",
    "\n",
    "# Determinar si es un problema de regresión o clasificación\n",
    "if wind_ava['energy'].nunique() > 2:\n",
    "    print('Es un problema de regresión')\n",
    "else:\n",
    "    print('Es un problema de clasificación')"
   ]
  },
  {
   "cell_type": "code",
   "execution_count": null,
   "metadata": {},
   "outputs": [],
   "source": [
    "from sklearn.model_selection import train_test_split\n",
    "from sklearn.neighbors import KNeighborsRegressor\n",
    "from sklearn.preprocessing import StandardScaler, MinMaxScaler, RobustScaler\n",
    "from sklearn.impute import SimpleImputer\n",
    "\n",
    "\n",
    "# Dividir los datos en conjuntos de entrenamiento y prueba\n",
    "X_train, X_test, y_train, y_test = train_test_split(wind_ava[numerical_vars], wind_ava['energy'], test_size=0.3, random_state=100472166)\n",
    "\n",
    "# Definir los métodos de escalado para evaluar\n",
    "scalers = {\n",
    "    'StandardScaler': StandardScaler(),\n",
    "    'MinMaxScaler': MinMaxScaler(),\n",
    "    'RobustScaler': RobustScaler()\n",
    "}\n",
    "\n",
    "# Crear un imputador para reemplazar los valores 0 con la media\n",
    "imputer = SimpleImputer(strategy='mean')\n",
    "X_train_imputed = imputer.fit_transform(X_train)\n",
    "\n",
    "# Evaluar KNN con diferentes métodos de escalado\n",
    "results = {}\n",
    "for scaler_name, scaler in scalers.items():\n",
    "    # Imputar los valores 0 en los datos de entrenamiento\n",
    "    X_train_imputed = imputer.fit_transform(X_train)\n",
    "    \n",
    "    # Escalar los datos de entrenamiento\n",
    "    X_train_scaled = scaler.fit_transform(X_train_imputed)\n",
    "    \n",
    "    # Entrenar el modelo KNN\n",
    "    knn = KNeighborsRegressor()\n",
    "    knn.fit(X_train_scaled, y_train)\n",
    "    \n",
    "    # Imputar los valores 0 en los datos de prueba\n",
    "    X_test_imputed = imputer.transform(X_test)\n",
    "    \n",
    "    # Escalar los datos de prueba\n",
    "    X_test_scaled = scaler.transform(X_test_imputed)\n",
    "    \n",
    "    # Evaluar el modelo\n",
    "    score = knn.score(X_test_scaled, y_test)\n",
    "    \n",
    "    # Almacenar los resultados\n",
    "    results[scaler_name] = score\n",
    "\n",
    "for scaler_name, score in results.items():\n",
    "    print(f\"Variable Name: {scaler_name}\")\n",
    "    print(f\"Variable Score: {score}\")\n",
    "    print()\n",
    "\n",
    "# Elegir el método de escalado con el mejor rendimiento\n",
    "mejor_scaler = max(results, key=results.get)\n",
    "print(f\"El mejor método de escalado es {mejor_scaler} con un puntaje de {results[mejor_scaler]}\")\n",
    "\n"
   ]
  }
 ],
 "metadata": {
  "kernelspec": {
   "display_name": "Python 3",
   "language": "python",
   "name": "python3"
  },
  "language_info": {
   "codemirror_mode": {
    "name": "ipython",
    "version": 3
   },
   "file_extension": ".py",
   "mimetype": "text/x-python",
   "name": "python",
   "nbconvert_exporter": "python",
   "pygments_lexer": "ipython3",
   "version": "3.10.9"
  }
 },
 "nbformat": 4,
 "nbformat_minor": 2
}
