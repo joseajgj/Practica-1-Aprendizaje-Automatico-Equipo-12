{
 "cells": [
  {
   "cell_type": "code",
   "execution_count": null,
   "metadata": {},
   "outputs": [],
   "source": [
    "!pip3 install pandas\n",
    "!pip3 install numpy\n",
    "!pip3 install scikit-learn"
   ]
  },
  {
   "cell_type": "code",
   "execution_count": null,
   "metadata": {},
   "outputs": [],
   "source": [
    "import pandas as pd\n",
    "import numpy as np\n",
    "from sklearn.model_selection import train_test_split\n",
    "from sklearn.preprocessing import MinMaxScaler\n",
    "from sklearn.linear_model import LinearRegression"
   ]
  },
  {
   "cell_type": "code",
   "execution_count": null,
   "metadata": {},
   "outputs": [],
   "source": [
    "wind_ava = pd.read_csv('wind_ava.csv.gz', compression=\"gzip\")\n",
    "\n",
    "# Elimina todas las variables meteorológicas que no correspondan a la localización de Sotavento (la localización 13)\n",
    "wind_ava = wind_ava.filter(regex='^(datetime|energy|.*\\.13)$')\n",
    "\n",
    "# Elimina las variables 'lai_hv.13' y 'v10n.13'\n",
    "if 'lai_hv.13' in wind_ava.columns and 'v10n.13' in wind_ava.columns:\n",
    "    wind_ava = wind_ava.drop(['lai_hv.13', 'v10n.13'], axis=1)\n",
    "\n",
    "# Vuelve a definir las variables numéricas\n",
    "numerical_vars = wind_ava.select_dtypes(include=['int64', 'float64']).columns\n",
    "\n",
    "# Quitamos \"energy\" de las variables numéricas, ya que querremos usarla como variable objetivo\n",
    "numerical_vars = numerical_vars.drop('energy')\n",
    "\n",
    "# Dividir los datos en conjuntos de entrenamiento y prueba (evaluación externa)\n",
    "X_train, X_test, y_train, y_test = train_test_split(wind_ava[numerical_vars], wind_ava['energy'], test_size=1/3, random_state=100472166, shuffle=False)\n",
    "\n",
    "# Transforma los datos de entrenamiento y de competición con el método de escalado\n",
    "X_train_scaled = MinMaxScaler.transform(X_train[numerical_vars])"
   ]
  },
  {
   "cell_type": "markdown",
   "metadata": {},
   "source": [
    "# Apartado 5"
   ]
  },
  {
   "cell_type": "markdown",
   "metadata": {},
   "source": [
    "En resumen, el método elegido es el de ``regresión lineal`` y la técnica de escalado es ``MinMaxScaler``. Estos serán por lo tanto los métodos que utilicemos para realizar la evalución del rendimiento futuro, como se muestra en el siguiente código:"
   ]
  },
  {
   "cell_type": "code",
   "execution_count": null,
   "metadata": {},
   "outputs": [],
   "source": [
    "import pickle\n",
    "\n",
    "# Carga los datos de competición en un DataFrame\n",
    "competition_data = pd.read_csv('wind_comp.csv.gz', compression=\"gzip\")\n",
    "\n",
    "# Ajusta el escalador a tus datos de entrenamiento\n",
    "scaler = MinMaxScaler()\n",
    "scaler.fit(X_train[numerical_vars])\n",
    "\n",
    "# Transforma los datos de entrenamiento y de competición con el método de escalado\n",
    "X_train_scaled = scaler.transform(X_train[numerical_vars])\n",
    "X_competition_scaled = scaler.transform(competition_data[numerical_vars])\n",
    "\n",
    "# Selecciona el mejor modelo que fue la Regresión Lineal\n",
    "best_model = LinearRegression()\n",
    "\n",
    "# Entrena el modelo final con todos los datos\n",
    "best_model.fit(X_train_scaled, y_train)\n",
    "\n",
    "# Guarda el modelo final\n",
    "with open('modelo_final.pkl', 'wb') as file:\n",
    "    pickle.dump(best_model, file)\n",
    "\n",
    "# Carga el modelo final\n",
    "with open('modelo_final.pkl', 'rb') as file:\n",
    "    loaded_model = pickle.load(file)\n",
    "\n",
    "# Utiliza el modelo final para hacer predicciones en el conjunto de datos de la competición y las guarda en un CSV\n",
    "competition_predictions = loaded_model.predict(X_competition_scaled)\n",
    "pd.DataFrame(competition_predictions).to_csv('predicciones.csv', index=False)"
   ]
  }
 ],
 "metadata": {
  "kernelspec": {
   "display_name": "Python 3",
   "language": "python",
   "name": "python3"
  },
  "language_info": {
   "name": "python",
   "version": "3.8.7"
  }
 },
 "nbformat": 4,
 "nbformat_minor": 2
}
