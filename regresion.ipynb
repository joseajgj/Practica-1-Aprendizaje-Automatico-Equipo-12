{
 "cells": [
  {
   "cell_type": "code",
   "execution_count": null,
   "metadata": {},
   "outputs": [],
   "source": [
    "!pip3 install pandas\n",
    "!pip3 install numpy\n",
    "!pip3 install scikit-learn\n",
    "!pip3 install joblib"
   ]
  },
  {
   "cell_type": "code",
   "execution_count": null,
   "metadata": {},
   "outputs": [],
   "source": [
    "import pandas as pd\n",
    "import numpy as np"
   ]
  },
  {
   "cell_type": "markdown",
   "metadata": {},
   "source": [
    "# Apartado 5"
   ]
  },
  {
   "cell_type": "markdown",
   "metadata": {},
   "source": [
    "En resumen, el método elegido es el de ``SVM`` y la técnica de escalado es ``StandardScaler``. Estos serán por lo tanto los métodos que utilicemos para realizar la evalución del rendimiento futuro, como se muestra en el siguiente código:"
   ]
  },
  {
   "cell_type": "code",
   "execution_count": null,
   "metadata": {},
   "outputs": [],
   "source": [
    "from sklearn.model_selection import train_test_split\n",
    "from sklearn.metrics import mean_squared_error\n",
    "from sklearn.preprocessing import StandardScaler\n",
    "from sklearn.svm import SVR\n",
    "from sklearn.model_selection import TimeSeriesSplit\n",
    "\n",
    "# Carga los datos de entrenamiento en un DataFrame\n",
    "wind_ava = pd.read_csv('wind_ava.csv.gz', compression=\"gzip\")\n",
    "\n",
    "# Selecciona solo las columnas numéricas\n",
    "numerical_vars = wind_ava.select_dtypes(include=['int64', 'float64']).columns\n",
    "\n",
    "# Nos aseguramos de que 'energy' no está en las variables numéricas, ya que es la variable objetivo\n",
    "numerical_vars = numerical_vars.drop('energy')\n",
    "\n",
    "# Divide los datos en conjuntos de entrenamiento y prueba\n",
    "X_train, X_test, y_train, y_test = train_test_split(wind_ava[numerical_vars], wind_ava['energy'], test_size=1/3, random_state=100472166, shuffle=False)\n",
    "\n",
    "# Crea el escalador\n",
    "scaler = StandardScaler()\n",
    "\n",
    "# Ajusta el escalador a las características del conjunto de entrenamiento\n",
    "X_train_scaled = scaler.fit_transform(X_train)\n",
    "\n",
    "# Transforma las características del conjunto de prueba usando el mismo escalador\n",
    "X_test_scaled = scaler.transform(X_test)\n",
    "\n",
    "# Define el modelo SVM con los hiperparámetros seleccionados\n",
    "best_model = SVR(C=1000.0, coef0= 0, gamma= 'scale', kernel= 'rbf', shrinking= True)\n",
    "\n",
    "# Define el número de splits\n",
    "tscv = TimeSeriesSplit(n_splits=3)\n",
    "\n",
    "# Itera a través de los splits de TimeSeriesSplit\n",
    "for train_index, test_index in tscv.split(X_train_scaled):\n",
    "    X_train_inner, X_val = X_train_scaled[train_index], X_train_scaled[test_index]\n",
    "    y_train_inner, y_val = y_train.iloc[train_index], y_train.iloc[test_index]\n",
    "\n",
    "    # Ajusta el modelo SVM en el conjunto de entrenamiento más pequeño\n",
    "    best_model.fit(X_train_inner, y_train_inner)\n",
    "\n",
    "    # Hace predicciones en el conjunto de validación\n",
    "    y_val_pred = best_model.predict(X_val)\n",
    "\n",
    "    # Pone los resultados negativos a 0, ya que no tendrían sentido\n",
    "    y_val_pred = np.maximum(y_val_pred, 0)\n",
    "\n",
    "    # Calcula los errores en el conjunto de validación\n",
    "    mse = mean_squared_error(y_val, y_val_pred)\n",
    "    rmse = np.sqrt(mse)\n",
    "    print(f\"MSE en el conjunto de validación: {mse}\")\n",
    "    print(f\"RMSE en el conjunto de validación: {rmse}\")\n",
    "    print(\"------------------------\")\n",
    "\n",
    "# Hace predicciones en el conjunto de prueba\n",
    "y_test_pred = best_model.predict(X_test_scaled)\n",
    "y_test_pred = np.maximum(y_test_pred, 0)\n",
    "\n",
    "# Calcula los errores en el conjunto de prueba\n",
    "mse_test = mean_squared_error(y_test, y_test_pred)\n",
    "rmse_test = np.sqrt(mse_test)\n",
    "print(f\"MSE en el conjunto de prueba: {mse_test}\")\n",
    "print(f\"RMSE en el conjunto de prueba: {rmse_test}\")"
   ]
  },
  {
   "cell_type": "markdown",
   "metadata": {},
   "source": [
    "El ``MSE`` obtenido es de 159004. Como era de esperar, al entrenarlo con todos los datos disponibles el error es algo menor que el resultado del ajuste de hiperparámetros (159220). El `` RMSE `` en cambio es de 398. Todos estos valores son por lo tanto los más bajos que hemos obtenido hasta ahora"
   ]
  },
  {
   "cell_type": "code",
   "execution_count": null,
   "metadata": {},
   "outputs": [],
   "source": [
    "from joblib import dump\n",
    "\n",
    "# Guarda el modelo en un archivo\n",
    "with open('modelo_final.pkl', 'wb') as file:\n",
    "    dump(best_model, file)"
   ]
  },
  {
   "cell_type": "markdown",
   "metadata": {},
   "source": [
    "Ahora utilizaremos este modelo para realizar predicciones con los datos de la competición y las guardaremos en el fichero `` predicciones.csv ``:"
   ]
  },
  {
   "cell_type": "code",
   "execution_count": null,
   "metadata": {},
   "outputs": [],
   "source": [
    "from joblib import load\n",
    "\n",
    "# Carga los datos de competición en un DataFrame\n",
    "competition_data = pd.read_csv('wind_comp.csv.gz', compression=\"gzip\")\n",
    "\n",
    "# Almacenamos las variables numéricas\n",
    "numerical_vars_competition = competition_data.select_dtypes(include=['int64', 'float64']).columns\n",
    "\n",
    "# Escalado de los datos de la competición\n",
    "X_competition_scaled = scaler.transform(competition_data[numerical_vars_competition])\n",
    "\n",
    "# Cargar el modelo final\n",
    "with open('modelo_final.pkl', 'rb') as file:\n",
    "    loaded_model = load(file)\n",
    "\n",
    "# Hace predicciones en el conjunto de datos de la competición\n",
    "competition_predictions = loaded_model.predict(X_competition_scaled)\n",
    "competition_predictions = np.maximum(competition_predictions, 0)\n",
    "\n",
    "# Guarda las predicciones en un archivo CSV\n",
    "pd.DataFrame(competition_predictions).to_csv('predicciones.csv', index=False, header=False)"
   ]
  }
 ],
 "metadata": {
  "kernelspec": {
   "display_name": "Python 3",
   "language": "python",
   "name": "python3"
  },
  "language_info": {
   "codemirror_mode": {
    "name": "ipython",
    "version": 3
   },
   "file_extension": ".py",
   "mimetype": "text/x-python",
   "name": "python",
   "nbconvert_exporter": "python",
   "pygments_lexer": "ipython3",
   "version": "3.8.7"
  }
 },
 "nbformat": 4,
 "nbformat_minor": 2
}
